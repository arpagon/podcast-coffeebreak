{
 "cells": [
  {
   "cell_type": "markdown",
   "metadata": {},
   "source": [
    "<a href=\"https://colab.research.google.com/github/arpagon/podcast-coffeebreak/blob/main/main.ipynb\" target=\"_parent\"><img src=\"https://colab.research.google.com/assets/colab-badge.svg\" alt=\"Open In Colab\"/></a>"
   ]
  },
  {
   "cell_type": "markdown",
   "metadata": {},
   "source": [
    "# Detect GPU"
   ]
  },
  {
   "cell_type": "code",
   "execution_count": null,
   "metadata": {},
   "outputs": [],
   "source": [
    "!nvidia-smi"
   ]
  },
  {
   "cell_type": "markdown",
   "metadata": {},
   "source": [
    "# Install CondaColab"
   ]
  },
  {
   "cell_type": "code",
   "execution_count": null,
   "metadata": {},
   "outputs": [],
   "source": [
    "!pip install -q condacolab\n",
    "import condacolab\n",
    "condacolab.install()"
   ]
  },
  {
   "cell_type": "markdown",
   "metadata": {},
   "source": [
    "# Check CondaColab it's ok"
   ]
  },
  {
   "cell_type": "code",
   "execution_count": null,
   "metadata": {},
   "outputs": [],
   "source": [
    "import condacolab\n",
    "condacolab.check()"
   ]
  },
  {
   "cell_type": "markdown",
   "metadata": {},
   "source": [
    "# Mount Google Drive"
   ]
  },
  {
   "cell_type": "code",
   "execution_count": 1,
   "metadata": {},
   "outputs": [
    {
     "name": "stderr",
     "output_type": "stream",
     "text": [
      "/opt/arpagon/mambaforge/envs/OpenAIWhisper/lib/python3.10/site-packages/google/colab/data_table.py:30: UserWarning: IPython.utils.traitlets has moved to a top-level traitlets package.\n",
      "  from IPython.utils import traitlets as _traitlets\n"
     ]
    },
    {
     "ename": "KeyError",
     "evalue": "'CLOUDSDK_CONFIG'",
     "output_type": "error",
     "traceback": [
      "\u001b[0;31m---------------------------------------------------------------------------\u001b[0m",
      "\u001b[0;31mKeyError\u001b[0m                                  Traceback (most recent call last)",
      "Cell \u001b[0;32mIn [1], line 2\u001b[0m\n\u001b[1;32m      1\u001b[0m \u001b[38;5;28;01mfrom\u001b[39;00m \u001b[38;5;21;01mgoogle\u001b[39;00m\u001b[38;5;21;01m.\u001b[39;00m\u001b[38;5;21;01mcolab\u001b[39;00m \u001b[38;5;28;01mimport\u001b[39;00m drive\n\u001b[0;32m----> 2\u001b[0m \u001b[43mdrive\u001b[49m\u001b[38;5;241;43m.\u001b[39;49m\u001b[43mmount\u001b[49m\u001b[43m(\u001b[49m\u001b[38;5;124;43m'\u001b[39;49m\u001b[38;5;124;43m/content/drive\u001b[39;49m\u001b[38;5;124;43m'\u001b[39;49m\u001b[43m)\u001b[49m\n",
      "File \u001b[0;32m/opt/arpagon/mambaforge/envs/OpenAIWhisper/lib/python3.10/site-packages/google/colab/drive.py:82\u001b[0m, in \u001b[0;36mmount\u001b[0;34m(mountpoint, force_remount, timeout_ms)\u001b[0m\n\u001b[1;32m     77\u001b[0m   \u001b[38;5;28mprint\u001b[39m(\u001b[38;5;124m'\u001b[39m\u001b[38;5;124mDrive already mounted at \u001b[39m\u001b[38;5;132;01m{}\u001b[39;00m\u001b[38;5;124m; to attempt to forcibly remount, \u001b[39m\u001b[38;5;124m'\u001b[39m\n\u001b[1;32m     78\u001b[0m         \u001b[38;5;124m'\u001b[39m\u001b[38;5;124mcall drive.mount(\u001b[39m\u001b[38;5;124m\"\u001b[39m\u001b[38;5;132;01m{}\u001b[39;00m\u001b[38;5;124m\"\u001b[39m\u001b[38;5;124m, force_remount=True).\u001b[39m\u001b[38;5;124m'\u001b[39m\u001b[38;5;241m.\u001b[39mformat(\n\u001b[1;32m     79\u001b[0m             mountpoint, mountpoint))\n\u001b[1;32m     80\u001b[0m   \u001b[38;5;28;01mreturn\u001b[39;00m\n\u001b[0;32m---> 82\u001b[0m env \u001b[38;5;241m=\u001b[39m \u001b[43m_env\u001b[49m\u001b[43m(\u001b[49m\u001b[43m)\u001b[49m\n\u001b[1;32m     83\u001b[0m home \u001b[38;5;241m=\u001b[39m env\u001b[38;5;241m.\u001b[39mhome\n\u001b[1;32m     84\u001b[0m root_dir \u001b[38;5;241m=\u001b[39m env\u001b[38;5;241m.\u001b[39mroot_dir\n",
      "File \u001b[0;32m/opt/arpagon/mambaforge/envs/OpenAIWhisper/lib/python3.10/site-packages/google/colab/drive.py:43\u001b[0m, in \u001b[0;36m_env\u001b[0;34m()\u001b[0m\n\u001b[1;32m     40\u001b[0m \u001b[38;5;124;03m\"\"\"Create and return an _Environment to use.\"\"\"\u001b[39;00m\n\u001b[1;32m     41\u001b[0m home \u001b[38;5;241m=\u001b[39m _os\u001b[38;5;241m.\u001b[39menviron[\u001b[38;5;124m'\u001b[39m\u001b[38;5;124mHOME\u001b[39m\u001b[38;5;124m'\u001b[39m]\n\u001b[1;32m     42\u001b[0m root_dir \u001b[38;5;241m=\u001b[39m _os\u001b[38;5;241m.\u001b[39mpath\u001b[38;5;241m.\u001b[39mrealpath(\n\u001b[0;32m---> 43\u001b[0m     _os\u001b[38;5;241m.\u001b[39mpath\u001b[38;5;241m.\u001b[39mjoin(\u001b[43m_os\u001b[49m\u001b[38;5;241;43m.\u001b[39;49m\u001b[43menviron\u001b[49m\u001b[43m[\u001b[49m\u001b[38;5;124;43m'\u001b[39;49m\u001b[38;5;124;43mCLOUDSDK_CONFIG\u001b[39;49m\u001b[38;5;124;43m'\u001b[39;49m\u001b[43m]\u001b[49m, \u001b[38;5;124m'\u001b[39m\u001b[38;5;124m../..\u001b[39m\u001b[38;5;124m'\u001b[39m))\n\u001b[1;32m     44\u001b[0m inet_family \u001b[38;5;241m=\u001b[39m \u001b[38;5;124m'\u001b[39m\u001b[38;5;124mIPV4_ONLY\u001b[39m\u001b[38;5;124m'\u001b[39m\n\u001b[1;32m     45\u001b[0m dev \u001b[38;5;241m=\u001b[39m \u001b[38;5;124m'\u001b[39m\u001b[38;5;124m/dev/fuse\u001b[39m\u001b[38;5;124m'\u001b[39m\n",
      "File \u001b[0;32m/opt/arpagon/mambaforge/envs/OpenAIWhisper/lib/python3.10/os.py:679\u001b[0m, in \u001b[0;36m_Environ.__getitem__\u001b[0;34m(self, key)\u001b[0m\n\u001b[1;32m    676\u001b[0m     value \u001b[38;5;241m=\u001b[39m \u001b[38;5;28mself\u001b[39m\u001b[38;5;241m.\u001b[39m_data[\u001b[38;5;28mself\u001b[39m\u001b[38;5;241m.\u001b[39mencodekey(key)]\n\u001b[1;32m    677\u001b[0m \u001b[38;5;28;01mexcept\u001b[39;00m \u001b[38;5;167;01mKeyError\u001b[39;00m:\n\u001b[1;32m    678\u001b[0m     \u001b[38;5;66;03m# raise KeyError with the original key value\u001b[39;00m\n\u001b[0;32m--> 679\u001b[0m     \u001b[38;5;28;01mraise\u001b[39;00m \u001b[38;5;167;01mKeyError\u001b[39;00m(key) \u001b[38;5;28;01mfrom\u001b[39;00m \u001b[38;5;28mNone\u001b[39m\n\u001b[1;32m    680\u001b[0m \u001b[38;5;28;01mreturn\u001b[39;00m \u001b[38;5;28mself\u001b[39m\u001b[38;5;241m.\u001b[39mdecodevalue(value)\n",
      "\u001b[0;31mKeyError\u001b[0m: 'CLOUDSDK_CONFIG'"
     ]
    }
   ],
   "source": [
    "from google.colab import drive\n",
    "drive.mount('/content/drive')"
   ]
  },
  {
   "cell_type": "code",
   "execution_count": null,
   "metadata": {},
   "outputs": [],
   "source": [
    "podcast_audio_directory = '/content/drive/MyDrive/AI/podcast/audio'\n",
    "podcast_text_directory = '/content/drive/MyDrive/AI/podcast/text'\n",
    "podcast_stats_csv = '/content/drive/MyDrive/AI/podcast/stats.csv'\n",
    "whisper_model = 'medium'\n",
    "decode_options = {\"language\": \"es\"}"
   ]
  },
  {
   "cell_type": "code",
   "execution_count": null,
   "metadata": {},
   "outputs": [],
   "source": [
    "!mkdir -p {podcast_audio_directory}\n",
    "!mkdir -p {podcast_text_directory}"
   ]
  },
  {
   "cell_type": "markdown",
   "metadata": {},
   "source": [
    "# Clone Repo"
   ]
  },
  {
   "cell_type": "code",
   "execution_count": null,
   "metadata": {},
   "outputs": [],
   "source": [
    "!git clone https://github.com/arpagon/podcast-coffeebreak.git"
   ]
  },
  {
   "cell_type": "markdown",
   "metadata": {},
   "source": [
    "# Install my env"
   ]
  },
  {
   "cell_type": "code",
   "execution_count": null,
   "metadata": {},
   "outputs": [],
   "source": [
    "!mamba env update -n base -f /content/podcast-coffeebreak/environment.yml"
   ]
  },
  {
   "cell_type": "markdown",
   "metadata": {},
   "source": [
    "# Check youtube-dl Version"
   ]
  },
  {
   "cell_type": "code",
   "execution_count": null,
   "metadata": {},
   "outputs": [],
   "source": [
    "!youtube-dl --version"
   ]
  },
  {
   "cell_type": "markdown",
   "metadata": {},
   "source": [
    "# Download Podcast"
   ]
  },
  {
   "cell_type": "code",
   "execution_count": null,
   "metadata": {},
   "outputs": [],
   "source": [
    "!bash /content/podcast-coffeebreak/utils/000_download_podcast.sh -u 'https://podcasts.google.com/feed/aHR0cDovL2ZlZWRzLmZlZWRidXJuZXIuY29tL1BvZGNhc3RDb2ZmZWVCcmVhaw?sa=X&ved=0CD4Q9sEGahcKEwjw1Zv4i8_6AhUAAAAAHQAAAAAQEw' -d /content/drive/MyDrive/AI/podcast/audio"
   ]
  },
  {
   "cell_type": "code",
   "execution_count": 1,
   "metadata": {},
   "outputs": [
    {
     "ename": "SyntaxError",
     "evalue": "invalid syntax (2718330330.py, line 46)",
     "output_type": "error",
     "traceback": [
      "\u001b[0;36m  Cell \u001b[0;32mIn [1], line 46\u001b[0;36m\u001b[0m\n\u001b[0;31m    transcribe_model=\u001b[0m\n\u001b[0m                     ^\u001b[0m\n\u001b[0;31mSyntaxError\u001b[0m\u001b[0;31m:\u001b[0m invalid syntax\n"
     ]
    }
   ],
   "source": [
    "import os\n",
    "import whisper\n",
    "import json\n",
    "import time\n",
    "import pandas as pd\n",
    "\n",
    "\n",
    "df = pd.DataFrame(columns=\n",
    "        [\n",
    "            'id', \n",
    "            'audio_filename',\n",
    "            'text_filename',\n",
    "            'size_in_bytes',\n",
    "            'size_in_sconds',\n",
    "            'transcribe_status',\n",
    "            'transcribe_start',\n",
    "            'transcribe_end',\n",
    "            'transcribe_duration',\n",
    "            'transcribe_model',\n",
    "            'transcribe_language'\n",
    "        ], index=['id']\n",
    ")\n",
    "model = whisper.load_model(whisper_model)\n",
    "\n",
    "for filename in os.listdir(podcast_audio_directory):\n",
    "    id=filename.split('.')[0]\n",
    "    audio_filename = os.path.join(podcast_audio_directory, filename)\n",
    "    text_filename = os.path.join(podcast_text_directory, filename.split('.')[0] + '.json')\n",
    "    size_in_bytes = os.path.getsize(audio_filename)\n",
    "    # size_in_sconds=audio.info.length\n",
    "    df.loc[id]={\n",
    "        \"id\": id,\n",
    "        \"audio_filename\": audio_filename,\n",
    "        \"text_filename\": text_filename,\n",
    "        \"size_in_bytes\": size_in_bytes,\n",
    "        # \"size_in_sconds\": size_in_sconds\n",
    "    }\n",
    "    if not os.path.exists(text_filename):\n",
    "        if os.path.isfile(audio_filename):\n",
    "            transcribe_start = time.time()\n",
    "            print('\\r transcribing {0} at {1}'.format(audio_filename, transcribe_start))\n",
    "            result = model.transcribe(audio_filename, decode_options)\n",
    "            transcribe_end = time.time()\n",
    "            transcribe_duration = transcribe_start - transcribe_end\n",
    "            transcribe_status = \"1\"\n",
    "            transcribe_model=model\n",
    "            with open(text_filename, 'w',encoding='utf8') as text_filename_file:\n",
    "                print('\\r Writing {0}'.format(text_filename))\n",
    "                json.dump(result, text_filename_file, indent=4)\n",
    "            print('\\r end transcribe {0} at {1} duration of {2} sec'.format(audio_filename, transcribe_end, transcribe_duration))\n",
    "            df.loc[id]={\n",
    "                \"transcribe_status\": transcribe_status,\n",
    "                \"transcribe_start\": transcribe_start,\n",
    "                \"transcribe_end\": transcribe_end,\n",
    "                \"transcribe_duration\": transcribe_duration,\n",
    "                \"transcribe_model\": whisper_model,\n",
    "                \"transcribe_language\": decode_options[\"language\"]\n",
    "            }\n",
    "    df.to_csv(podcast_stats_csv, mode='a', index=False, header=False)\n",
    "    print(\"\\r {0} Data appended successfully\".format(id))"
   ]
  }
 ],
 "metadata": {
  "kernelspec": {
   "display_name": "Python 3",
   "language": "python",
   "name": "python3"
  },
  "language_info": {
   "codemirror_mode": {
    "name": "ipython",
    "version": 3
   },
   "file_extension": ".py",
   "mimetype": "text/x-python",
   "name": "python",
   "nbconvert_exporter": "python",
   "pygments_lexer": "ipython3",
   "version": "3.10.6 | packaged by conda-forge | (main, Aug 22 2022, 20:35:26) [GCC 10.4.0]"
  },
  "vscode": {
   "interpreter": {
    "hash": "68796c4a74138b7d74b1ad1d89abe16eb1cdb3a820722abb0431af506d216224"
   }
  }
 },
 "nbformat": 4,
 "nbformat_minor": 2
}
